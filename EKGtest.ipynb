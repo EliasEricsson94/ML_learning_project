{
 "cells": [
  {
   "cell_type": "code",
   "execution_count": 1,
   "metadata": {},
   "outputs": [],
   "source": [
    "import csv\n",
    "import pandas as pd\n",
    "import numpy as np\n",
    "\n",
    "import tensorflow as tf\n",
    "from tensorflow import keras\n",
    "from tensorflow.keras import layers\n",
    "\n",
    "from matplotlib import pyplot as plt\n",
    "\n",
    "import tensorflow_docs as tfdocs\n",
    "import tensorflow_docs.plots\n",
    "import tensorflow_docs.modeling\n",
    "\n",
    "from sklearn.metrics import mean_squared_error"
   ]
  },
  {
   "cell_type": "code",
   "execution_count": 2,
   "metadata": {},
   "outputs": [],
   "source": [
    "data_AVR = pd.read_csv(\"ECG_2_AVR.csv\")\n",
    "with pd.option_context('display.max_rows', None, 'display.max_columns', None):\n",
    "    data_AVR.to_csv(\"file_name.csv\", sep='\\t', encoding='utf-8')\n",
    "    \n",
    "data_II = pd.read_csv(\"ECG_2_II.csv\")\n",
    "with pd.option_context('display.max_rows', None, 'display.max_columns', None):\n",
    "    data_II.to_csv(\"file_name.csv\", sep='\\t', encoding='utf-8')    \n",
    "    \n",
    "data_II_missing = pd.read_csv(\"ECG_2_II_missing.csv\")\n",
    "with pd.option_context('display.max_rows', None, 'display.max_columns', None):\n",
    "    data_II_missing.to_csv(\"file_name.csv\", sep='\\t', encoding='utf-8')\n",
    "    \n",
    "data_V = pd.read_csv(\"ECG_2_V.csv\")\n",
    "with pd.option_context('display.max_rows', None, 'display.max_columns', None):\n",
    "    data_V.to_csv(\"file_name.csv\", sep='\\t', encoding='utf-8')\n",
    "    \n",
    "data_II_complete = np.concatenate([data_II, data_II_missing])  "
   ]
  },
  {
   "cell_type": "code",
   "execution_count": 3,
   "metadata": {},
   "outputs": [],
   "source": [
    "train_feature_I = data_AVR.head(-3750)       #train_feature_I.size   71249\n",
    "train_feature_II = data_V.head(-3750)        #train_feature_II.size  71249\n",
    "train_label = data_II                        #train_label.size       71249\n",
    "\n",
    "test_feature_I = data_AVR.tail(3749)         #test_feature_I.size    3749\n",
    "test_feature_II = data_V.tail(3749)          #test_feature_II.size   3749\n",
    "test_label =  data_II_missing                #test_label.size        3749\n",
    "\n",
    "train_feature_I = np.array(train_feature_I)\n",
    "train_feature_II = np.array(train_feature_II)\n",
    "train_label = np.array(train_label)\n",
    "\n",
    "test_feature_I = np.array(test_feature_I)\n",
    "test_feature_II = np.array(test_feature_II)\n",
    "test_label = np.array(test_label)\n",
    "\n",
    "class_names = ['feature_I', 'feature_II', 'label']"
   ]
  },
  {
   "cell_type": "code",
   "execution_count": 4,
   "metadata": {},
   "outputs": [],
   "source": [
    "all_data = np.c_[train_feature_I, train_feature_II, train_label]\n",
    "all_data_display = pd.DataFrame(data=all_data, columns=class_names)"
   ]
  },
  {
   "cell_type": "code",
   "execution_count": 5,
   "metadata": {},
   "outputs": [],
   "source": [
    "# test features\n",
    "my_test_features = np.c_[test_feature_I,test_feature_II]\n",
    "class_names = ['feature_I', 'feature_II']\n",
    "df_test_features = pd.DataFrame(data=my_test_features, columns=class_names)\n",
    "\n",
    "# test label\n",
    "my_test_label = np.c_[test_label]\n",
    "class_names = ['label']\n",
    "df_test_label = pd.DataFrame(data=my_test_label, columns=class_names)\n",
    "\n",
    "# train label\n",
    "my_train_label = np.c_[train_label]\n",
    "class_names = ['label']\n",
    "df_train_label = pd.DataFrame(data=my_train_label, columns=class_names)\n",
    "\n",
    "# train features\n",
    "my_train_features = np.c_[train_feature_I,train_feature_II]\n",
    "class_names = ['feature_I', 'feature_II']\n",
    "df_train_features = pd.DataFrame(data=my_train_features, columns=class_names)"
   ]
  },
  {
   "cell_type": "code",
   "execution_count": 6,
   "metadata": {},
   "outputs": [
    {
     "data": {
      "text/plain": [
       "(71249, 2)"
      ]
     },
     "execution_count": 6,
     "metadata": {},
     "output_type": "execute_result"
    }
   ],
   "source": [
    "df_train_features.shape"
   ]
  },
  {
   "cell_type": "code",
   "execution_count": 46,
   "metadata": {},
   "outputs": [],
   "source": [
    "def build_model():\n",
    "  model = keras.Sequential([\n",
    "    layers.Dense(12, activation='relu', input_shape=(0,2)),\n",
    "    layers.Dense(12, activation='relu'),\n",
    "    layers.Dense(12, activation='relu'),\n",
    "    layers.Dense(1)\n",
    "  ])\n",
    "\n",
    "  model.compile(loss='mse',\n",
    "                optimizer='adam',\n",
    "                metrics=['mae', 'mse'])\n",
    "  return model"
   ]
  },
  {
   "cell_type": "code",
   "execution_count": 47,
   "metadata": {},
   "outputs": [
    {
     "name": "stdout",
     "output_type": "stream",
     "text": [
      "Model: \"sequential_5\"\n",
      "_________________________________________________________________\n",
      "Layer (type)                 Output Shape              Param #   \n",
      "=================================================================\n",
      "dense_20 (Dense)             (None, 0, 12)             36        \n",
      "_________________________________________________________________\n",
      "dense_21 (Dense)             (None, 0, 12)             156       \n",
      "_________________________________________________________________\n",
      "dense_22 (Dense)             (None, 0, 12)             156       \n",
      "_________________________________________________________________\n",
      "dense_23 (Dense)             (None, 0, 1)              13        \n",
      "=================================================================\n",
      "Total params: 361\n",
      "Trainable params: 361\n",
      "Non-trainable params: 0\n",
      "_________________________________________________________________\n"
     ]
    }
   ],
   "source": [
    "model = build_model()\n",
    "model.summary()"
   ]
  },
  {
   "cell_type": "code",
   "execution_count": 48,
   "metadata": {},
   "outputs": [
    {
     "name": "stdout",
     "output_type": "stream",
     "text": [
      "WARNING:tensorflow:Model was constructed with shape (None, 0, 2) for input Tensor(\"dense_20_input:0\", shape=(None, 0, 2), dtype=float32), but it was called on an input with incompatible shape (None, 2).\n",
      "WARNING:tensorflow:Model was constructed with shape (None, 0, 2) for input Tensor(\"dense_20_input:0\", shape=(None, 0, 2), dtype=float32), but it was called on an input with incompatible shape (None, 2).\n",
      "WARNING:tensorflow:Model was constructed with shape (None, 0, 2) for input Tensor(\"dense_20_input:0\", shape=(None, 0, 2), dtype=float32), but it was called on an input with incompatible shape (None, 2).\n",
      "\n",
      "Epoch: 0, loss:0.0017,  mae:0.0170,  mse:0.0017,  val_loss:0.0001,  val_mae:0.0071,  val_mse:0.0001,  \n",
      "....................................................................................................\n",
      "Epoch: 100, loss:0.0001,  mae:0.0078,  mse:0.0001,  val_loss:0.0001,  val_mae:0.0076,  val_mse:0.0001,  \n",
      "....................................................................................................\n",
      "Epoch: 200, loss:0.0001,  mae:0.0075,  mse:0.0001,  val_loss:0.0001,  val_mae:0.0082,  val_mse:0.0001,  \n",
      "....................................................................................................\n",
      "Epoch: 300, loss:0.0001,  mae:0.0074,  mse:0.0001,  val_loss:0.0001,  val_mae:0.0081,  val_mse:0.0001,  \n",
      "....................................................................................................\n",
      "Epoch: 400, loss:0.0001,  mae:0.0074,  mse:0.0001,  val_loss:0.0001,  val_mae:0.0086,  val_mse:0.0001,  \n",
      "....................................................................................................\n",
      "Epoch: 500, loss:0.0001,  mae:0.0074,  mse:0.0001,  val_loss:0.0002,  val_mae:0.0116,  val_mse:0.0002,  \n",
      "....................................................................................................\n",
      "Epoch: 600, loss:0.0001,  mae:0.0073,  mse:0.0001,  val_loss:0.0001,  val_mae:0.0059,  val_mse:0.0001,  \n",
      "....................................................................................................\n",
      "Epoch: 700, loss:0.0001,  mae:0.0073,  mse:0.0001,  val_loss:0.0001,  val_mae:0.0098,  val_mse:0.0001,  \n",
      "....................................................................................................\n",
      "Epoch: 800, loss:0.0001,  mae:0.0073,  mse:0.0001,  val_loss:0.0001,  val_mae:0.0069,  val_mse:0.0001,  \n",
      "....................................................................................................\n",
      "Epoch: 900, loss:0.0001,  mae:0.0073,  mse:0.0001,  val_loss:0.0001,  val_mae:0.0067,  val_mse:0.0001,  \n",
      "....................................................................................................\n",
      "Epoch: 1000, loss:0.0001,  mae:0.0073,  mse:0.0001,  val_loss:0.0001,  val_mae:0.0069,  val_mse:0.0001,  \n",
      "....................................................................................................\n",
      "Epoch: 1100, loss:0.0001,  mae:0.0073,  mse:0.0001,  val_loss:0.0001,  val_mae:0.0089,  val_mse:0.0001,  \n",
      "....................................................................................................\n",
      "Epoch: 1200, loss:0.0001,  mae:0.0073,  mse:0.0001,  val_loss:0.0001,  val_mae:0.0070,  val_mse:0.0001,  \n",
      "....................................................................................................\n",
      "Epoch: 1300, loss:0.0001,  mae:0.0073,  mse:0.0001,  val_loss:0.0001,  val_mae:0.0075,  val_mse:0.0001,  \n",
      "....................................................................................................\n",
      "Epoch: 1400, loss:0.0001,  mae:0.0073,  mse:0.0001,  val_loss:0.0001,  val_mae:0.0073,  val_mse:0.0001,  \n",
      "...................................................................................................."
     ]
    }
   ],
   "source": [
    "EPOCHS = 1500\n",
    "\n",
    "history = model.fit(\n",
    "  my_train_features, my_train_label,\n",
    "  epochs=EPOCHS, validation_split = 0.001, verbose=0,\n",
    "  callbacks=[tfdocs.modeling.EpochDots()])"
   ]
  },
  {
   "cell_type": "code",
   "execution_count": 49,
   "metadata": {},
   "outputs": [
    {
     "data": {
      "text/html": [
       "<div>\n",
       "<style scoped>\n",
       "    .dataframe tbody tr th:only-of-type {\n",
       "        vertical-align: middle;\n",
       "    }\n",
       "\n",
       "    .dataframe tbody tr th {\n",
       "        vertical-align: top;\n",
       "    }\n",
       "\n",
       "    .dataframe thead th {\n",
       "        text-align: right;\n",
       "    }\n",
       "</style>\n",
       "<table border=\"1\" class=\"dataframe\">\n",
       "  <thead>\n",
       "    <tr style=\"text-align: right;\">\n",
       "      <th></th>\n",
       "      <th>loss</th>\n",
       "      <th>mae</th>\n",
       "      <th>mse</th>\n",
       "      <th>val_loss</th>\n",
       "      <th>val_mae</th>\n",
       "      <th>val_mse</th>\n",
       "      <th>epoch</th>\n",
       "    </tr>\n",
       "  </thead>\n",
       "  <tbody>\n",
       "    <tr>\n",
       "      <th>1495</th>\n",
       "      <td>0.000117</td>\n",
       "      <td>0.007298</td>\n",
       "      <td>0.000117</td>\n",
       "      <td>0.000103</td>\n",
       "      <td>0.007121</td>\n",
       "      <td>0.000103</td>\n",
       "      <td>1495</td>\n",
       "    </tr>\n",
       "    <tr>\n",
       "      <th>1496</th>\n",
       "      <td>0.000116</td>\n",
       "      <td>0.007279</td>\n",
       "      <td>0.000116</td>\n",
       "      <td>0.000086</td>\n",
       "      <td>0.007044</td>\n",
       "      <td>0.000086</td>\n",
       "      <td>1496</td>\n",
       "    </tr>\n",
       "    <tr>\n",
       "      <th>1497</th>\n",
       "      <td>0.000116</td>\n",
       "      <td>0.007262</td>\n",
       "      <td>0.000116</td>\n",
       "      <td>0.000080</td>\n",
       "      <td>0.006861</td>\n",
       "      <td>0.000080</td>\n",
       "      <td>1497</td>\n",
       "    </tr>\n",
       "    <tr>\n",
       "      <th>1498</th>\n",
       "      <td>0.000115</td>\n",
       "      <td>0.007274</td>\n",
       "      <td>0.000115</td>\n",
       "      <td>0.000098</td>\n",
       "      <td>0.007845</td>\n",
       "      <td>0.000098</td>\n",
       "      <td>1498</td>\n",
       "    </tr>\n",
       "    <tr>\n",
       "      <th>1499</th>\n",
       "      <td>0.000117</td>\n",
       "      <td>0.007293</td>\n",
       "      <td>0.000117</td>\n",
       "      <td>0.000073</td>\n",
       "      <td>0.006756</td>\n",
       "      <td>0.000073</td>\n",
       "      <td>1499</td>\n",
       "    </tr>\n",
       "  </tbody>\n",
       "</table>\n",
       "</div>"
      ],
      "text/plain": [
       "          loss       mae       mse  val_loss   val_mae   val_mse  epoch\n",
       "1495  0.000117  0.007298  0.000117  0.000103  0.007121  0.000103   1495\n",
       "1496  0.000116  0.007279  0.000116  0.000086  0.007044  0.000086   1496\n",
       "1497  0.000116  0.007262  0.000116  0.000080  0.006861  0.000080   1497\n",
       "1498  0.000115  0.007274  0.000115  0.000098  0.007845  0.000098   1498\n",
       "1499  0.000117  0.007293  0.000117  0.000073  0.006756  0.000073   1499"
      ]
     },
     "execution_count": 49,
     "metadata": {},
     "output_type": "execute_result"
    }
   ],
   "source": [
    "hist = pd.DataFrame(history.history)\n",
    "hist['epoch'] = history.epoch\n",
    "hist.tail()"
   ]
  },
  {
   "cell_type": "code",
   "execution_count": 122,
   "metadata": {},
   "outputs": [
    {
     "data": {
      "text/plain": [
       "Text(0, 0.5, 'MSE')"
      ]
     },
     "execution_count": 122,
     "metadata": {},
     "output_type": "execute_result"
    },
    {
     "data": {
      "image/png": "[encoded data removed]",
      "text/plain": [
       "<Figure size 432x288 with 1 Axes>"
      ]
     },
     "metadata": {
      "needs_background": "light"
     },
     "output_type": "display_data"
    }
   ],
   "source": [
    "plotter = tfdocs.plots.HistoryPlotter(smoothing_std=2)\n",
    "plotter.plot({'Basic': history}, metric = \"mse\")\n",
    "plt.ylim([0, 0.002])\n",
    "plt.ylabel('MSE')"
   ]
  },
  {
   "cell_type": "code",
   "execution_count": 51,
   "metadata": {},
   "outputs": [
    {
     "name": "stdout",
     "output_type": "stream",
     "text": [
      "WARNING:tensorflow:Model was constructed with shape (None, 0, 2) for input Tensor(\"dense_20_input:0\", shape=(None, 0, 2), dtype=float32), but it was called on an input with incompatible shape (None, 2).\n",
      "[0.18060637 0.18060637 0.17519683 ... 0.17216776 0.2178693  0.1974812 ]\n"
     ]
    }
   ],
   "source": [
    "test_predictions = model.predict(my_test_features).flatten()\n",
    "\n",
    "print(test_predictions)\n"
   ]
  },
  {
   "cell_type": "code",
   "execution_count": 52,
   "metadata": {},
   "outputs": [
    {
     "data": {
      "text/plain": [
       "[<matplotlib.lines.Line2D at 0x220e39cbe20>]"
      ]
     },
     "execution_count": 52,
     "metadata": {},
     "output_type": "execute_result"
    },
    {
     "data": {
      "image/png": "[encoded data removed]",
      "text/plain": [
       "<Figure size 432x288 with 1 Axes>"
      ]
     },
     "metadata": {
      "needs_background": "light"
     },
     "output_type": "display_data"
    }
   ],
   "source": [
    "plt.plot(test_predictions)"
   ]
  },
  {
   "cell_type": "code",
   "execution_count": 137,
   "metadata": {},
   "outputs": [
    {
     "data": {
      "image/png": "[encoded data removed]",
      "text/plain": [
       "<Figure size 648x216 with 1 Axes>"
      ]
     },
     "metadata": {
      "needs_background": "light"
     },
     "output_type": "display_data"
    }
   ],
   "source": [
    "plt.figure(figsize=(9, 3)) #(35,12)\n",
    "plt.ylim([-0.8, 1.6])\n",
    "plt.xlim([3500, 3750])\n",
    "plt.plot(test_predictions)\n",
    "plt.plot(test_label)\n",
    "plt.savefig('foo.png', bbox_inches='tight')"
   ]
  },
  {
   "cell_type": "code",
   "execution_count": 54,
   "metadata": {},
   "outputs": [],
   "source": [
    "a = test_predictions\n",
    "np.savetxt(\"d12d12d12.csv\", a, delimiter=\",\")"
   ]
  },
  {
   "cell_type": "code",
   "execution_count": 130,
   "metadata": {},
   "outputs": [
    {
     "name": "stdout",
     "output_type": "stream",
     "text": [
      "0.00011491396576341232\n"
     ]
    }
   ],
   "source": [
    "mse = mean_squared_error(test_predictions,test_label)\n",
    "print(mse)"
   ]
  },
  {
   "cell_type": "code",
   "execution_count": null,
   "metadata": {},
   "outputs": [],
   "source": []
  },
  {
   "cell_type": "code",
   "execution_count": null,
   "metadata": {},
   "outputs": [],
   "source": []
  }
 ],
 "metadata": {
  "kernelspec": {
   "display_name": "Python 3",
   "language": "python",
   "name": "python3"
  },
  "language_info": {
   "codemirror_mode": {
    "name": "ipython",
    "version": 3
   },
   "file_extension": ".py",
   "mimetype": "text/x-python",
   "name": "python",
   "nbconvert_exporter": "python",
   "pygments_lexer": "ipython3",
   "version": "3.8.3"
  }
 },
 "nbformat": 4,
 "nbformat_minor": 4
}
